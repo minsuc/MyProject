{
 "cells": [
  {
   "cell_type": "code",
   "execution_count": 1,
   "metadata": {
    "collapsed": false
   },
   "outputs": [
    {
     "data": {
      "text/plain": [
       "2-element Array{Int64,1}:\n",
       " 2\n",
       " 3"
      ]
     },
     "execution_count": 1,
     "metadata": {},
     "output_type": "execute_result"
    }
   ],
   "source": [
    "addprocs(2)"
   ]
  },
  {
   "cell_type": "code",
   "execution_count": 2,
   "metadata": {
    "collapsed": false
   },
   "outputs": [
    {
     "name": "stderr",
     "output_type": "stream",
     "text": [
      "WARNING: `require` is deprecated, use `using` or `import` instead\n",
      " in depwarn at deprecated.jl:73\n",
      " [inlined code] from deprecated.jl:694\n",
      " in require at no file:0\n",
      " in include_string at loading.jl:266\n",
      " in execute_request_0x535c5df2 at C:\\Users\\Minsu Chang\\.julia\\v0.4\\IJulia\\src\\execute_request.jl:177\n",
      " in eventloop at C:\\Users\\Minsu Chang\\.julia\\v0.4\\IJulia\\src\\IJulia.jl:141\n",
      " in anonymous at task.jl:447\n",
      "while loading In[2], in expression starting on line 1\n"
     ]
    }
   ],
   "source": [
    "require(\"DefinitionPara.jl\")"
   ]
  },
  {
   "cell_type": "code",
   "execution_count": 3,
   "metadata": {
    "collapsed": false
   },
   "outputs": [
    {
     "data": {
      "text/plain": [
       "main_paral (generic function with 1 method)"
      ]
     },
     "execution_count": 3,
     "metadata": {},
     "output_type": "execute_result"
    }
   ],
   "source": [
    "function main_paral()\n",
    "\n",
    "aalpha = 1/3     # Elasticity of output w.r.t. capital\n",
    "bbeta  = 0.95    # Discount factor\n",
    "\n",
    "# Productivity values\n",
    "vProductivity = [0.9792 0.9896 1.0000 1.0106 1.0212]\n",
    "\n",
    "# Transition matrix\n",
    "mTransition   =     [0.9727 0.0273 0.0000 0.0000 0.0000;\n",
    "                     0.0041 0.9806 0.0153 0.0000 0.0000;\n",
    "                     0.0000 0.0082 0.9837 0.0082 0.0000;\n",
    "                     0.0000 0.0000 0.0153 0.9806 0.0041;\n",
    "                     0.0000 0.0000 0.0000 0.0273 0.9727]\n",
    "\n",
    "    # 2. Steady State\n",
    "\n",
    "    capitalSteadyState = (aalpha*bbeta)^(1/(1-aalpha))\n",
    "  \n",
    "    # We generate the grid of capital\n",
    "vGridCapital = collect(0.5*capitalSteadyState:0.0001:1.5*capitalSteadyState)\n",
    "\n",
    "    nGridCapital = length(vGridCapital)\n",
    "    nGridProductivity = length(vProductivity)\n",
    "\n",
    "    # 3. Required matrices and vectors\n",
    "\n",
    "mOutput           = zeros(nGridCapital,nGridProductivity)\n",
    "mValueFunction    = zeros(nGridCapital,nGridProductivity)\n",
    "mValueFunctionNew = SharedArray(Float64, (nGridCapital,nGridProductivity))\n",
    "mPolicyFunction   = SharedArray(Float64, (nGridCapital,nGridProductivity))\n",
    "expectedValueFunction = zeros(nGridCapital,nGridProductivity)\n",
    "\n",
    "    # 4. We pre-build output for each point in the grid\n",
    "\n",
    "mOutput = (vGridCapital.^aalpha)*vProductivity\n",
    "\n",
    "    # 5. Main iteration\n",
    "\n",
    "    maxDifference = 10.0\n",
    "    tolerance = 0.0000001\n",
    "    iteration = 0\n",
    "\n",
    "pparams = [aalpha, bbeta, nGridCapital, nGridProductivity]   \n",
    "\n",
    "#while(maxDifference > tolerance)\n",
    "    expectedValueFunction = mValueFunction*mTransition';  \n",
    "    \n",
    "    final_shared(mValueFunctionNew, mPolicyFunction, pparams, vGridCapital, mOutput, expectedValueFunction)\n",
    "    \n",
    "    maxDifference = maximum(abs(mValueFunctionNew - mValueFunction))\n",
    "    mValueFunction = sdata(mValueFunctionNew)\n",
    "    mValueFunctionNew =  SharedArray(Float64, (nGridCapital,nGridProductivity))\n",
    "    \n",
    "    iteration = iteration+1\n",
    "        if mod(iteration,10)==0 || iteration == 1\n",
    "            println(\" Iteration = \", iteration, \" Sup Diff = \", maxDifference)\n",
    "        end\n",
    "    \n",
    "#end\n",
    "\n",
    "    return mValueFunction, mPolicyFunction\n",
    "end\n"
   ]
  },
  {
   "cell_type": "code",
   "execution_count": 23,
   "metadata": {
    "collapsed": false
   },
   "outputs": [
    {
     "name": "stdout",
     "output_type": "stream",
     "text": [
      "  0.000714 seconds (543 allocations: 51.578 KB)\n",
      "  0.000640 seconds (543 allocations: 51.578 KB)\n",
      " Iteration = 1 Sup Diff = 0.05274159340733662\n",
      "  0.004515 seconds (4.06 k allocations: 816.734 KB)\n"
     ]
    }
   ],
   "source": [
    "@time main_paral();"
   ]
  },
  {
   "cell_type": "code",
   "execution_count": 5,
   "metadata": {
    "collapsed": false
   },
   "outputs": [
    {
     "data": {
      "text/plain": [
       "main (generic function with 1 method)"
      ]
     },
     "execution_count": 5,
     "metadata": {},
     "output_type": "execute_result"
    }
   ],
   "source": [
    "function main()\n",
    "\n",
    "    aalpha = 1/3     # Elasticity of output w.r.t. capital\n",
    "    bbeta  = 0.95    # Discount factor\n",
    "\n",
    "    # Productivity values\n",
    "    vProductivity = [0.9792 0.9896 1.0000 1.0106 1.0212]\n",
    "\n",
    "    # Transition matrix\n",
    "    mTransition   = [0.9727 0.0273 0.0000 0.0000 0.0000;\n",
    "                     0.0041 0.9806 0.0153 0.0000 0.0000;\n",
    "                     0.0000 0.0082 0.9837 0.0082 0.0000;\n",
    "                     0.0000 0.0000 0.0153 0.9806 0.0041;\n",
    "                     0.0000 0.0000 0.0000 0.0273 0.9727]\n",
    "\n",
    "    # 2. Steady State\n",
    "\n",
    "    capitalSteadyState = (aalpha*bbeta)^(1/(1-aalpha))\n",
    "\n",
    "    # We generate the grid of capital\n",
    "    vGridCapital = collect(0.5*capitalSteadyState:0.0001:1.5*capitalSteadyState)\n",
    "\n",
    "    nGridCapital = length(vGridCapital)\n",
    "    nGridProductivity = length(vProductivity)\n",
    "\n",
    "    # 3. Required matrices and vectors\n",
    "\n",
    "    mOutput           = zeros(nGridCapital,nGridProductivity)\n",
    "    mValueFunction    = zeros(nGridCapital,nGridProductivity)\n",
    "    mValueFunctionNew = zeros(nGridCapital,nGridProductivity)\n",
    "    mPolicyFunction   = zeros(nGridCapital,nGridProductivity)\n",
    "    expectedValueFunction = zeros(nGridCapital,nGridProductivity)\n",
    "\n",
    "    # 4. We pre-build output for each point in the grid\n",
    "\n",
    "    mOutput = (vGridCapital.^aalpha)*vProductivity;\n",
    "\n",
    "    # 5. Main iteration\n",
    "\n",
    "    maxDifference = 10.0\n",
    "    tolerance = 0.0000001\n",
    "    iteration = 0\n",
    "\n",
    "   # while(maxDifference > tolerance)\n",
    "        expectedValueFunction = mValueFunction*mTransition';\n",
    "\n",
    "        for nProductivity = 1:nGridProductivity\n",
    "        \n",
    "            # We start from previous choice (monotonicity of policy function)\n",
    "            gridCapitalNextPeriod = 1\n",
    "        \n",
    "            for nCapital = 1:nGridCapital\n",
    "        \n",
    "                valueHighSoFar = -1000.0\n",
    "                capitalChoice  = vGridCapital[1]\n",
    "            \n",
    "                for nCapitalNextPeriod = gridCapitalNextPeriod:nGridCapital\n",
    "\n",
    "                    consumption = mOutput[nCapital,nProductivity]-vGridCapital[nCapitalNextPeriod]\n",
    "                    valueProvisional = (1-bbeta)*log(consumption)+bbeta*expectedValueFunction[nCapitalNextPeriod,nProductivity]\n",
    "               \n",
    "                    if (valueProvisional>valueHighSoFar)\n",
    "                \tvalueHighSoFar = valueProvisional\n",
    "                \tcapitalChoice = vGridCapital[nCapitalNextPeriod]\n",
    "                \tgridCapitalNextPeriod = nCapitalNextPeriod\n",
    "                    else\n",
    "                \tbreak # We break when we have achieved the max\n",
    "                    end\n",
    "                                 \n",
    "                end\n",
    "            \n",
    "                mValueFunctionNew[nCapital,nProductivity] = valueHighSoFar\n",
    "                mPolicyFunction[nCapital,nProductivity] = capitalChoice\n",
    "          \n",
    "            end\n",
    "        \n",
    "        end\n",
    "\n",
    "        maxDifference  = maximum(abs(mValueFunctionNew-mValueFunction))\n",
    "        mValueFunction    = mValueFunctionNew\n",
    "        mValueFunctionNew = zeros(nGridCapital,nGridProductivity)\n",
    "\n",
    "        iteration = iteration+1\n",
    "        if mod(iteration,10)==0 || iteration == 1\n",
    "            println(\" Iteration = \", iteration, \" Sup Diff = \", maxDifference)\n",
    "        end\n",
    "           \n",
    "   # end\n",
    "\n",
    "end"
   ]
  },
  {
   "cell_type": "code",
   "execution_count": 27,
   "metadata": {
    "collapsed": false
   },
   "outputs": [
    {
     "name": "stdout",
     "output_type": "stream",
     "text": [
      " Iteration = 1 Sup Diff = 0.05274159340733662\n",
      "  0.001041 seconds (349 allocations: 740.500 KB)\n"
     ]
    }
   ],
   "source": [
    "@time main()"
   ]
  },
  {
   "cell_type": "code",
   "execution_count": null,
   "metadata": {
    "collapsed": true
   },
   "outputs": [],
   "source": []
  }
 ],
 "metadata": {
  "kernelspec": {
   "display_name": "Julia 0.4.3",
   "language": "julia",
   "name": "julia-0.4"
  },
  "language_info": {
   "file_extension": ".jl",
   "mimetype": "application/julia",
   "name": "julia",
   "version": "0.4.3"
  }
 },
 "nbformat": 4,
 "nbformat_minor": 0
}
