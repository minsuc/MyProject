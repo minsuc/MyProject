{
 "cells": [
  {
   "cell_type": "markdown",
   "metadata": {},
   "source": [
    "### Using SharedArray is costly in terms of memory"
   ]
  },
  {
   "cell_type": "code",
   "execution_count": 1,
   "metadata": {
    "collapsed": false
   },
   "outputs": [
    {
     "data": {
      "text/plain": [
       "4-element Array{Int64,1}:\n",
       " 2\n",
       " 3\n",
       " 4\n",
       " 5"
      ]
     },
     "execution_count": 1,
     "metadata": {},
     "output_type": "execute_result"
    }
   ],
   "source": [
    "addprocs(4)"
   ]
  },
  {
   "cell_type": "markdown",
   "metadata": {},
   "source": [
    "#### I added 4 workers and followed official parallel documentation"
   ]
  },
  {
   "cell_type": "code",
   "execution_count": 2,
   "metadata": {
    "collapsed": false
   },
   "outputs": [],
   "source": [
    "@everywhere function myrange(q::SharedArray)\n",
    "    idx = indexpids(q)\n",
    "    if idx == 0\n",
    "        # This worker is not assigned a piece\n",
    "        return 1:0, 1:0\n",
    "    end\n",
    "    nchunks = length(procs(q))\n",
    "    splits = [round(Int, s) for s in linspace(0,size(q,2),nchunks+1)]\n",
    "    1:size(q,1), splits[idx]+1:splits[idx+1]\n",
    "end\n",
    "\n",
    "# Here's the kernel\n",
    "@everywhere function advection_chunk!(q, u, irange, jrange, trange)\n",
    "    @show (irange, jrange, trange)  # display so we can see what's happening\n",
    "    for t in trange, j in jrange, i in irange\n",
    "        q[i,j,t+1] = q[i,j,t] +  u[i,j,t]\n",
    "    end\n",
    "    q\n",
    "end\n",
    "\n",
    "# Here's a convenience wrapper for a SharedArray implementation\n",
    "@everywhere advection_shared_chunk!(q, u) = advection_chunk!(q, u, myrange(q)..., 1:size(q,3)-1)"
   ]
  },
  {
   "cell_type": "markdown",
   "metadata": {},
   "source": [
    "#### Serial code"
   ]
  },
  {
   "cell_type": "code",
   "execution_count": 3,
   "metadata": {
    "collapsed": false
   },
   "outputs": [
    {
     "data": {
      "text/plain": [
       "advection_serial! (generic function with 1 method)"
      ]
     },
     "execution_count": 3,
     "metadata": {},
     "output_type": "execute_result"
    }
   ],
   "source": [
    "advection_serial!(q, u) = advection_chunk!(q, u, 1:size(q,1), 1:size(q,2), 1:size(q,3)-1)"
   ]
  },
  {
   "cell_type": "markdown",
   "metadata": {},
   "source": [
    "#### Parallel code"
   ]
  },
  {
   "cell_type": "code",
   "execution_count": 4,
   "metadata": {
    "collapsed": false
   },
   "outputs": [
    {
     "data": {
      "text/plain": [
       "advection_shared! (generic function with 1 method)"
      ]
     },
     "execution_count": 4,
     "metadata": {},
     "output_type": "execute_result"
    }
   ],
   "source": [
    "function advection_shared!(q, u)\n",
    "    @sync begin\n",
    "        for p in procs(q)\n",
    "            @async remotecall_wait(advection_shared_chunk!, p, q, u)\n",
    "        end\n",
    "    end\n",
    "    q\n",
    "end"
   ]
  },
  {
   "cell_type": "code",
   "execution_count": 5,
   "metadata": {
    "collapsed": false
   },
   "outputs": [
    {
     "name": "stdout",
     "output_type": "stream",
     "text": [
      "(irange,jrange,trange) = (1:500,1:500,1:499)\n",
      "\tFrom worker 2:\t(irange,jrange,trange) = (1:500,1:125,1:499)\n",
      "\tFrom worker 5:\t(irange,jrange,trange) = (1:500,376:500,1:499)\n",
      "\tFrom worker 3:\t(irange,jrange,trange) = (1:500,126:250,1:499)\n",
      "\tFrom worker 4:\t(irange,jrange,trange) = (1:500,251:375,1:499)\n"
     ]
    }
   ],
   "source": [
    "q = SharedArray(Float64, (500,500,500))\n",
    "u = SharedArray(Float64, (500,500,500))\n",
    "\n",
    "# Run once to JIT-compile\n",
    "advection_serial!(q, u);\n",
    "advection_shared!(q, u);"
   ]
  },
  {
   "cell_type": "code",
   "execution_count": 7,
   "metadata": {
    "collapsed": false
   },
   "outputs": [
    {
     "name": "stdout",
     "output_type": "stream",
     "text": [
      "(irange,jrange,trange) = (1:500,1:500,1:499)\n",
      "  0.753682 seconds (350 allocations: 16.625 KB)\n"
     ]
    }
   ],
   "source": [
    "@time advection_serial!(q, u);"
   ]
  },
  {
   "cell_type": "code",
   "execution_count": 9,
   "metadata": {
    "collapsed": false
   },
   "outputs": [
    {
     "name": "stdout",
     "output_type": "stream",
     "text": [
      "\tFrom worker 2:\t(irange,jrange,trange) = (1:500,1:125,1:499)\n",
      "\tFrom worker 3:\t(irange,jrange,trange) = (1:500,126:250,1:499)\n",
      "\tFrom worker 4:\t(irange,jrange,trange) = (1:500,251:375,1:499)\n",
      "\tFrom worker 5:\t(irange,jrange,trange) = (1:500,376:500,1:499)\n",
      "  0.312011 seconds (3.37 k allocations: 244.141 KB)\n"
     ]
    }
   ],
   "source": [
    "@time advection_shared!(q, u);"
   ]
  },
  {
   "cell_type": "markdown",
   "metadata": {},
   "source": [
    "#### Documentation shows that parallel code runs faster than serial code. But we don't need to use SharedArray for serial code!"
   ]
  },
  {
   "cell_type": "code",
   "execution_count": 10,
   "metadata": {
    "collapsed": false
   },
   "outputs": [
    {
     "name": "stdout",
     "output_type": "stream",
     "text": [
      "(irange,jrange,trange) = (1:500,1:500,1:499)\n"
     ]
    }
   ],
   "source": [
    "q = Array(Float64, (500,500,500))\n",
    "u = Array(Float64, (500,500,500));\n",
    "advection_serial!(q, u);"
   ]
  },
  {
   "cell_type": "code",
   "execution_count": 13,
   "metadata": {
    "collapsed": false
   },
   "outputs": [
    {
     "name": "stdout",
     "output_type": "stream",
     "text": [
      "(irange,jrange,trange) = (1:500,1:500,1:499)\n",
      "  0.310071 seconds (350 allocations: 16.625 KB)\n"
     ]
    }
   ],
   "source": [
    "@time advection_serial!(q, u);"
   ]
  },
  {
   "cell_type": "markdown",
   "metadata": {},
   "source": [
    "#### Serial code runs faster than parallel code! Memory allocation is much smaller."
   ]
  },
  {
   "cell_type": "code",
   "execution_count": null,
   "metadata": {
    "collapsed": true
   },
   "outputs": [],
   "source": []
  },
  {
   "cell_type": "code",
   "execution_count": null,
   "metadata": {
    "collapsed": false
   },
   "outputs": [],
   "source": []
  },
  {
   "cell_type": "code",
   "execution_count": null,
   "metadata": {
    "collapsed": true
   },
   "outputs": [],
   "source": []
  }
 ],
 "metadata": {
  "kernelspec": {
   "display_name": "Julia 0.4.3",
   "language": "julia",
   "name": "julia-0.4"
  },
  "language_info": {
   "file_extension": ".jl",
   "mimetype": "application/julia",
   "name": "julia",
   "version": "0.4.3"
  }
 },
 "nbformat": 4,
 "nbformat_minor": 0
}
