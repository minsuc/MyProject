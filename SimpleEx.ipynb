{
 "cells": [
  {
   "cell_type": "code",
   "execution_count": 45,
   "metadata": {
    "collapsed": false
   },
   "outputs": [
    {
     "data": {
      "text/plain": [
       "4-element Array{Int64,1}:\n",
       " 5\n",
       " 6\n",
       " 7\n",
       " 8"
      ]
     },
     "execution_count": 45,
     "metadata": {},
     "output_type": "execute_result"
    }
   ],
   "source": [
    "addprocs(4)"
   ]
  },
  {
   "cell_type": "code",
   "execution_count": 46,
   "metadata": {
    "collapsed": false
   },
   "outputs": [],
   "source": [
    "@everywhere function myrange(q::SharedArray)\n",
    "    idx = indexpids(q)\n",
    "    if idx == 0\n",
    "        # This worker is not assigned a piece\n",
    "        return 1:0, 1:0\n",
    "    end\n",
    "    nchunks = length(procs(q))\n",
    "    splits = [round(Int, s) for s in linspace(0,size(q,2),nchunks+1)]\n",
    "    1:size(q,1), splits[idx]+1:splits[idx+1]\n",
    "end\n",
    "\n",
    "# Here's the kernel\n",
    "@everywhere function advection_chunk!(q, u, irange, jrange)\n",
    "    @show (irange, jrange)  # display so we can see what's happening\n",
    "    for j in jrange, i in irange\n",
    "        q[i,j] = q[i,j] +  u[i,j]\n",
    "    end\n",
    "    q\n",
    "end\n",
    "\n",
    "# Here's a convenience wrapper for a SharedArray implementation\n",
    "@everywhere advection_shared_chunk!(q, u) = advection_chunk!(q, u, myrange(q)...)"
   ]
  },
  {
   "cell_type": "code",
   "execution_count": 47,
   "metadata": {
    "collapsed": false
   },
   "outputs": [
    {
     "data": {
      "text/plain": [
       "advection_serial! (generic function with 1 method)"
      ]
     },
     "execution_count": 47,
     "metadata": {},
     "output_type": "execute_result"
    }
   ],
   "source": [
    "advection_serial!(q, u) = advection_chunk!(q, u, 1:size(q,1), 1:size(q,2))"
   ]
  },
  {
   "cell_type": "code",
   "execution_count": null,
   "metadata": {
    "collapsed": false
   },
   "outputs": [],
   "source": [
    "function advection_parallel!(q, u)\n",
    "       @sync @parallel for j = 1:size(q,2)\n",
    "            for i = 1:size(q,1)\n",
    "                q[i,j]= q[i,j] + u[i,j]\n",
    "            end\n",
    "        end\n",
    "    q\n",
    "end"
   ]
  },
  {
   "cell_type": "code",
   "execution_count": 48,
   "metadata": {
    "collapsed": false
   },
   "outputs": [
    {
     "data": {
      "text/plain": [
       "advection_shared! (generic function with 1 method)"
      ]
     },
     "execution_count": 48,
     "metadata": {},
     "output_type": "execute_result"
    }
   ],
   "source": [
    "function advection_shared!(q, u)\n",
    "    @sync begin\n",
    "        for p in procs(q)\n",
    "            @async remotecall_wait(advection_shared_chunk!, p, q, u)\n",
    "        end\n",
    "    end\n",
    "    q\n",
    "end"
   ]
  },
  {
   "cell_type": "code",
   "execution_count": null,
   "metadata": {
    "collapsed": false
   },
   "outputs": [],
   "source": [
    "addprocs(2)"
   ]
  },
  {
   "cell_type": "code",
   "execution_count": 80,
   "metadata": {
    "collapsed": false
   },
   "outputs": [
    {
     "name": "stdout",
     "output_type": "stream",
     "text": [
      "(irange,jrange) = (1:5,1:10000)\n",
      "\tFrom worker 2:\t(irange,jrange) = (1:5,1:1429)\n",
      "\tFrom worker 3:\t(irange,jrange) = (1:5,1430:2857)\n",
      "\tFrom worker 5:\t(irange,jrange) = (1:5,4287:5714)\n",
      "\tFrom worker 7:\t(irange,jrange) = (1:5,7144:8571)\n",
      "\tFrom worker 8:\t(irange,jrange) = (1:5,8572:10000)\n",
      "\tFrom worker 4:\t(irange,jrange) = (1:5,2858:4286)\n"
     ]
    },
    {
     "data": {
      "text/plain": [
       "5x10000 SharedArray{Float64,2}:\n",
       " 0.0  0.0  0.0  0.0  0.0  0.0  0.0  0.0  …  0.0  0.0  0.0  0.0  0.0  0.0  0.0\n",
       " 0.0  0.0  0.0  0.0  0.0  0.0  0.0  0.0     0.0  0.0  0.0  0.0  0.0  0.0  0.0\n",
       " 0.0  0.0  0.0  0.0  0.0  0.0  0.0  0.0     0.0  0.0  0.0  0.0  0.0  0.0  0.0\n",
       " 0.0  0.0  0.0  0.0  0.0  0.0  0.0  0.0     0.0  0.0  0.0  0.0  0.0  0.0  0.0\n",
       " 0.0  0.0  0.0  0.0  0.0  0.0  0.0  0.0     0.0  0.0  0.0  0.0  0.0  0.0  0.0"
      ]
     },
     "execution_count": 80,
     "metadata": {},
     "output_type": "execute_result"
    },
    {
     "name": "stdout",
     "output_type": "stream",
     "text": [
      "\tFrom worker 6:\t(irange,jrange) = (1:5,5715:7143)\n"
     ]
    }
   ],
   "source": [
    "q = SharedArray(Float64, (5,10000))\n",
    "u = SharedArray(Float64, (5,10000))\n",
    "advection_serial!(q,u)\n",
    "advection_shared!(q,u)\n",
    "#@time advection_serial!(q, u)"
   ]
  },
  {
   "cell_type": "code",
   "execution_count": 83,
   "metadata": {
    "collapsed": false
   },
   "outputs": [
    {
     "name": "stdout",
     "output_type": "stream",
     "text": [
      "(irange,jrange) = "
     ]
    },
    {
     "data": {
      "text/plain": [
       "5x10000 SharedArray{Float64,2}:\n",
       " 0.0  0.0  0.0  0.0  0.0  0.0  0.0  0.0  …  0.0  0.0  0.0  0.0  0.0  0.0  0.0\n",
       " 0.0  0.0  0.0  0.0  0.0  0.0  0.0  0.0     0.0  0.0  0.0  0.0  0.0  0.0  0.0\n",
       " 0.0  0.0  0.0  0.0  0.0  0.0  0.0  0.0     0.0  0.0  0.0  0.0  0.0  0.0  0.0\n",
       " 0.0  0.0  0.0  0.0  0.0  0.0  0.0  0.0     0.0  0.0  0.0  0.0  0.0  0.0  0.0\n",
       " 0.0  0.0  0.0  0.0  0.0  0.0  0.0  0.0     0.0  0.0  0.0  0.0  0.0  0.0  0.0"
      ]
     },
     "execution_count": 83,
     "metadata": {},
     "output_type": "execute_result"
    },
    {
     "name": "stdout",
     "output_type": "stream",
     "text": [
      "(1:5,1:10000)\n",
      "  0.000565 seconds (335 allocations: 15.891 KB)\n"
     ]
    }
   ],
   "source": [
    "@time advection_serial!(q, u)"
   ]
  },
  {
   "cell_type": "code",
   "execution_count": 84,
   "metadata": {
    "collapsed": false
   },
   "outputs": [
    {
     "name": "stdout",
     "output_type": "stream",
     "text": [
      "\tFrom worker 2:\t(irange,jrange) = (1:5,1:1429)\n",
      "\tFrom worker 4:\t(irange,jrange) = (1:5,2858:4286)\n",
      "\tFrom worker 3:\t(irange,jrange) = (1:5,1430:2857)\n",
      "\tFrom worker 5:\t(irange,jrange) = (1:5,4287:5714)\n"
     ]
    },
    {
     "data": {
      "text/plain": [
       "5x10000 SharedArray{Float64,2}:\n",
       " 0.0  0.0  0.0  0.0  0.0  0.0  0.0  0.0  …  0.0  0.0  0.0  0.0  0.0  0.0  0.0\n",
       " 0.0  0.0  0.0  0.0  0.0  0.0  0.0  0.0     0.0  0.0  0.0  0.0  0.0  0.0  0.0\n",
       " 0.0  0.0  0.0  0.0  0.0  0.0  0.0  0.0     0.0  0.0  0.0  0.0  0.0  0.0  0.0\n",
       " 0.0  0.0  0.0  0.0  0.0  0.0  0.0  0.0     0.0  0.0  0.0  0.0  0.0  0.0  0.0\n",
       " 0.0  0.0  0.0  0.0  0.0  0.0  0.0  0.0     0.0  0.0  0.0  0.0  0.0  0.0  0.0"
      ]
     },
     "execution_count": 84,
     "metadata": {},
     "output_type": "execute_result"
    },
    {
     "name": "stdout",
     "output_type": "stream",
     "text": [
      "\tFrom worker 6:\t(irange,jrange) = (1:5,5715:7143)\n",
      "\tFrom worker 7:\t(irange,jrange) = (1:5,7144:8571)\n",
      "\tFrom worker 8:\t(irange,jrange) = (1:5,8572:10000)\n",
      "  0.034747 seconds (8.04 k allocations: 605.375 KB)\n"
     ]
    }
   ],
   "source": [
    "# Run once to JIT-compile\n",
    "@time advection_shared!(q,u)"
   ]
  },
  {
   "cell_type": "code",
   "execution_count": 2,
   "metadata": {
    "collapsed": false
   },
   "outputs": [
    {
     "data": {
      "text/plain": [
       "61.499115044247795"
      ]
     },
     "execution_count": 2,
     "metadata": {},
     "output_type": "execute_result"
    }
   ],
   "source": [
    "0.034747/0.000565"
   ]
  },
  {
   "cell_type": "code",
   "execution_count": null,
   "metadata": {
    "collapsed": true
   },
   "outputs": [],
   "source": []
  }
 ],
 "metadata": {
  "kernelspec": {
   "display_name": "Julia 0.4.3",
   "language": "julia",
   "name": "julia-0.4"
  },
  "language_info": {
   "file_extension": ".jl",
   "mimetype": "application/julia",
   "name": "julia",
   "version": "0.4.3"
  }
 },
 "nbformat": 4,
 "nbformat_minor": 0
}
